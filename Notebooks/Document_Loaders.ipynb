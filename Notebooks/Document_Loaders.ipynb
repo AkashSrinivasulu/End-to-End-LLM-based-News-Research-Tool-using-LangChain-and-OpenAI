{
 "cells": [
  {
   "cell_type": "markdown",
   "id": "0e2c3875",
   "metadata": {},
   "source": [
    "## Loading documents in Langchain"
   ]
  },
  {
   "cell_type": "code",
   "execution_count": 2,
   "id": "ae68c8c9",
   "metadata": {},
   "outputs": [
    {
     "data": {
      "text/plain": [
       "[Document(page_content=\"The stock of NVIDIA Corp (NASDAQ:NVDA) experienced a daily loss of -3.56% and a 3-month gain of 32.35%. With an Earnings Per Share (EPS) (EPS) of $1.92, the question arises: is the stock significantly overvalued? This article aims to provide a detailed valuation analysis of NVIDIA, offering insights into its financial strength, profitability, growth, and more. We invite you to delve into this comprehensive analysis.\\n\\nCompany Overview\\nWarning! GuruFocus has detected 10 Warning Signs with NVDA. Click here to check it out.\\n\\nNVDA 30-Year Financial Data\\n\\nThe intrinsic value of NVDA\\n\\n\\nNVIDIA Corp (NASDAQ:NVDA) is a leading designer of discrete graphics processing units that enhance the experience on computing platforms. The firm's chips are widely used in various end markets, including PC gaming and data centers. In recent years, NVIDIA has broadened its focus from traditional PC graphics applications such as gaming to more complex and favorable opportunities, including artificial intelligence and autonomous driving, leveraging the high-performance capabilities of its products.\\n\\nCurrently, NVIDIA's stock price stands at $418.01, significantly higher than the GF Value of $310.28, indicating the stock might be overvalued. With a market cap of $1 trillion, the valuation seems steep. The following analysis aims to delve deeper into the company's value.\\n\\nIs NVIDIA's Stock Significantly Overvalued? A Comprehensive Valuation Analysis\\nIs NVIDIA's Stock Significantly Overvalued? A Comprehensive Valuation Analysis\\nUnderstanding the GF Value\\nThe GF Value is a unique measure of the intrinsic value of a stock, calculated based on historical trading multiples, a GuruFocus adjustment factor, and future business performance estimates. If the stock price is significantly above the GF Value Line, it is overvalued, and its future return is likely to be poor. Conversely, if it is significantly below the GF Value Line, its future return will likely be higher.\\n\\nAccording to GuruFocus Value calculation, NVIDIA (NASDAQ:NVDA) appears to be significantly overvalued. The stock's current price of $418.01 per share and the market cap of $1 trillion further strengthen this assumption.\\n\\nGiven that NVIDIA is significantly overvalued, the long-term return of its stock is likely to be much lower than its future business growth.\\n\\nIs NVIDIA's Stock Significantly Overvalued? A Comprehensive Valuation Analysis\\nIs NVIDIA's Stock Significantly Overvalued? A Comprehensive Valuation Analysis\\nLink: These companies may deliver higher future returns at reduced risk.\\n\\nFinancial Strength of NVIDIA\\nExamining the financial strength of a company is crucial before investing in its stock. Companies with poor financial strength pose a higher risk of permanent loss. NVIDIA's cash-to-debt ratio of 1.27 is worse than 58.04% of companies in the Semiconductors industry. However, NVIDIA's overall financial strength is 8 out of 10, indicating a strong financial position.\\n\\nIs NVIDIA's Stock Significantly Overvalued? A Comprehensive Valuation Analysis\\nIs NVIDIA's Stock Significantly Overvalued? A Comprehensive Valuation Analysis\\nProfitability and Growth\\nConsistent profitability over the long term reduces the risk for investors. NVIDIA, with its profitability ranking of 10 out of 10, has been profitable for the past 10 years. The company's operating margin of 17.37% ranks better than 76.5% of companies in the Semiconductors industry.\\n\\nHowever, growth is a crucial factor in a company's valuation. NVIDIA's growth ranks worse than 52.99% of companies in the Semiconductors industry, with its 3-year average revenue growth rate better than 87.88% of companies in the industry.\\n\\nROIC vs WACC\\nComparing a company's return on invested capital (ROIC) to its weighted average cost of capital (WACC) is an effective way to evaluate its profitability. Over the past 12 months, NVIDIA's ROIC was 20.32 while its WACC was 16.74, suggesting that the company is creating value for its shareholders.\\n\\nIs NVIDIA's Stock Significantly Overvalued? A Comprehensive Valuation Analysis\\nIs NVIDIA's Stock Significantly Overvalued? A Comprehensive Valuation Analysis\\nConclusion\\nIn conclusion, NVIDIA (NASDAQ:NVDA) appears to be significantly overvalued. Despite its strong financial condition and profitability, its growth ranks lower than 52.99% of companies in the Semiconductors industry. To learn more about NVIDIA stock, you can check out its 30-Year Financials here.\\n\\nTo find out the high quality companies that may deliver above-average returns, please check out GuruFocus High Quality Low Capex Screener.\\n\\nThis article first appeared on GuruFocus.\", metadata={'source': 'news1.txt'})]"
      ]
     },
     "execution_count": 2,
     "metadata": {},
     "output_type": "execute_result"
    }
   ],
   "source": [
    "from langchain.document_loaders import TextLoader\n",
    "loader = TextLoader(\"news1.txt\")\n",
    "loader.load()"
   ]
  },
  {
   "cell_type": "markdown",
   "id": "9b9795d4",
   "metadata": {},
   "source": [
    "## UnstructuredURLLoader\n",
    "\n",
    "UnstructuredURLLoader of Langchain internally uses unstructured python library to load the content from url's"
   ]
  },
  {
   "cell_type": "code",
   "execution_count": 7,
   "id": "de77d350",
   "metadata": {},
   "outputs": [
    {
     "name": "stdout",
     "output_type": "stream",
     "text": [
      "Requirement already satisfied: unstructured in c:\\users\\akash\\anaconda3\\lib\\site-packages (0.10.22)\n",
      "Requirement already satisfied: libmagic in c:\\users\\akash\\anaconda3\\lib\\site-packages (1.0)\n",
      "Requirement already satisfied: python-magic in c:\\users\\akash\\anaconda3\\lib\\site-packages (0.4.27)\n",
      "Requirement already satisfied: python-magic-bin in c:\\users\\akash\\anaconda3\\lib\\site-packages (0.4.14)\n",
      "Requirement already satisfied: chardet in c:\\users\\akash\\anaconda3\\lib\\site-packages (from unstructured) (4.0.0)\n",
      "Requirement already satisfied: filetype in c:\\users\\akash\\anaconda3\\lib\\site-packages (from unstructured) (1.2.0)\n",
      "Requirement already satisfied: lxml in c:\\users\\akash\\anaconda3\\lib\\site-packages (from unstructured) (4.9.3)\n",
      "Requirement already satisfied: nltk in c:\\users\\akash\\anaconda3\\lib\\site-packages (from unstructured) (3.8.1)\n",
      "Requirement already satisfied: tabulate in c:\\users\\akash\\anaconda3\\lib\\site-packages (from unstructured) (0.8.10)\n",
      "Requirement already satisfied: requests in c:\\users\\akash\\anaconda3\\lib\\site-packages (from unstructured) (2.31.0)\n",
      "Requirement already satisfied: beautifulsoup4 in c:\\users\\akash\\anaconda3\\lib\\site-packages (from unstructured) (4.12.2)\n",
      "Requirement already satisfied: emoji in c:\\users\\akash\\anaconda3\\lib\\site-packages (from unstructured) (2.8.0)\n",
      "Requirement already satisfied: dataclasses-json in c:\\users\\akash\\anaconda3\\lib\\site-packages (from unstructured) (0.6.1)\n",
      "Requirement already satisfied: python-iso639 in c:\\users\\akash\\anaconda3\\lib\\site-packages (from unstructured) (2023.6.15)\n",
      "Requirement already satisfied: langdetect in c:\\users\\akash\\anaconda3\\lib\\site-packages (from unstructured) (1.0.9)\n",
      "Requirement already satisfied: numpy in c:\\users\\akash\\anaconda3\\lib\\site-packages (from unstructured) (1.24.3)\n",
      "Requirement already satisfied: rapidfuzz in c:\\users\\akash\\anaconda3\\lib\\site-packages (from unstructured) (3.4.0)\n",
      "Requirement already satisfied: backoff in c:\\users\\akash\\anaconda3\\lib\\site-packages (from unstructured) (2.2.1)\n",
      "Requirement already satisfied: soupsieve>1.2 in c:\\users\\akash\\anaconda3\\lib\\site-packages (from beautifulsoup4->unstructured) (2.4)\n",
      "Requirement already satisfied: marshmallow<4.0.0,>=3.18.0 in c:\\users\\akash\\anaconda3\\lib\\site-packages (from dataclasses-json->unstructured) (3.20.1)\n",
      "Requirement already satisfied: typing-inspect<1,>=0.4.0 in c:\\users\\akash\\anaconda3\\lib\\site-packages (from dataclasses-json->unstructured) (0.9.0)\n",
      "Requirement already satisfied: six in c:\\users\\akash\\anaconda3\\lib\\site-packages (from langdetect->unstructured) (1.16.0)\n",
      "Requirement already satisfied: click in c:\\users\\akash\\anaconda3\\lib\\site-packages (from nltk->unstructured) (8.0.4)\n",
      "Requirement already satisfied: joblib in c:\\users\\akash\\anaconda3\\lib\\site-packages (from nltk->unstructured) (1.2.0)\n",
      "Requirement already satisfied: regex>=2021.8.3 in c:\\users\\akash\\anaconda3\\lib\\site-packages (from nltk->unstructured) (2022.7.9)\n",
      "Requirement already satisfied: tqdm in c:\\users\\akash\\anaconda3\\lib\\site-packages (from nltk->unstructured) (4.65.0)\n",
      "Requirement already satisfied: charset-normalizer<4,>=2 in c:\\users\\akash\\anaconda3\\lib\\site-packages (from requests->unstructured) (2.0.4)\n",
      "Requirement already satisfied: idna<4,>=2.5 in c:\\users\\akash\\anaconda3\\lib\\site-packages (from requests->unstructured) (3.4)\n",
      "Requirement already satisfied: urllib3<3,>=1.21.1 in c:\\users\\akash\\anaconda3\\lib\\site-packages (from requests->unstructured) (1.26.16)\n",
      "Requirement already satisfied: certifi>=2017.4.17 in c:\\users\\akash\\anaconda3\\lib\\site-packages (from requests->unstructured) (2023.7.22)\n",
      "Requirement already satisfied: packaging>=17.0 in c:\\users\\akash\\anaconda3\\lib\\site-packages (from marshmallow<4.0.0,>=3.18.0->dataclasses-json->unstructured) (23.1)\n",
      "Requirement already satisfied: mypy-extensions>=0.3.0 in c:\\users\\akash\\anaconda3\\lib\\site-packages (from typing-inspect<1,>=0.4.0->dataclasses-json->unstructured) (1.0.0)\n",
      "Requirement already satisfied: typing-extensions>=3.7.4 in c:\\users\\akash\\anaconda3\\lib\\site-packages (from typing-inspect<1,>=0.4.0->dataclasses-json->unstructured) (4.7.1)\n",
      "Requirement already satisfied: colorama in c:\\users\\akash\\anaconda3\\lib\\site-packages (from click->nltk->unstructured) (0.4.6)\n"
     ]
    }
   ],
   "source": [
    "#installing necessary libraries, libmagic is used for file type detection\n",
    "!pip3 install unstructured libmagic python-magic python-magic-bin"
   ]
  },
  {
   "cell_type": "code",
   "execution_count": 3,
   "id": "60b67bd1",
   "metadata": {},
   "outputs": [],
   "source": [
    "from langchain.document_loaders import UnstructuredURLLoader"
   ]
  },
  {
   "cell_type": "code",
   "execution_count": 10,
   "id": "2302f952",
   "metadata": {},
   "outputs": [
    {
     "name": "stderr",
     "output_type": "stream",
     "text": [
      "libmagic is unavailable but assists in filetype detection on file-like objects. Please consider installing libmagic for better results.\n",
      "Error fetching or processing https://www.moneycontrol.com/news/business/banks/hdfc-bank-re-appoints-sanmoy-chakrabarti-as-chief-risk-officer-11259771.html, exception: Invalid file. The FileType.UNK file type is not supported in partition.\n",
      "libmagic is unavailable but assists in filetype detection on file-like objects. Please consider installing libmagic for better results.\n",
      "Error fetching or processing https://www.moneycontrol.com/news/business/markets/market-corrects-post-rbi-ups-inflation-forecast-icrr-bet-on-these-top-10-rate-sensitive-stocks-ideas-11142611.html, exception: Invalid file. The FileType.UNK file type is not supported in partition.\n"
     ]
    },
    {
     "name": "stdout",
     "output_type": "stream",
     "text": [
      "0\n"
     ]
    }
   ],
   "source": [
    "loader = UnstructuredURLLoader(\n",
    "    urls = [\n",
    "        \"https://www.moneycontrol.com/news/business/banks/hdfc-bank-re-appoints-sanmoy-chakrabarti-as-chief-risk-officer-11259771.html\",\n",
    "        \"https://www.moneycontrol.com/news/business/markets/market-corrects-post-rbi-ups-inflation-forecast-icrr-bet-on-these-top-10-rate-sensitive-stocks-ideas-11142611.html\"\n",
    "    ]\n",
    ")\n",
    "data = loader.load()\n",
    "print(len(data))"
   ]
  },
  {
   "cell_type": "code",
   "execution_count": 9,
   "id": "70cf096a",
   "metadata": {},
   "outputs": [
    {
     "name": "stdout",
     "output_type": "stream",
     "text": [
      "Collecting python-libmagic\n",
      "  Using cached python_libmagic-0.4.0-py3-none-any.whl\n",
      "Collecting cffi==1.7.0 (from python-libmagic)\n",
      "  Using cached cffi-1.7.0.tar.gz (400 kB)\n",
      "  Preparing metadata (setup.py): started\n",
      "  Preparing metadata (setup.py): finished with status 'done'\n",
      "Requirement already satisfied: pycparser in c:\\users\\akash\\anaconda3\\lib\\site-packages (from cffi==1.7.0->python-libmagic) (2.21)\n",
      "Building wheels for collected packages: cffi\n",
      "  Building wheel for cffi (setup.py): started\n",
      "  Building wheel for cffi (setup.py): finished with status 'error'\n",
      "  Running setup.py clean for cffi\n",
      "Failed to build cffi\n"
     ]
    },
    {
     "name": "stderr",
     "output_type": "stream",
     "text": [
      "  error: subprocess-exited-with-error\n",
      "  \n",
      "  python setup.py bdist_wheel did not run successfully.\n",
      "  exit code: 1\n",
      "  \n",
      "  [216 lines of output]\n",
      "  running bdist_wheel\n",
      "  running build\n",
      "  running build_py\n",
      "  creating build\n",
      "  creating build\\lib.win-amd64-cpython-311\n",
      "  creating build\\lib.win-amd64-cpython-311\\cffi\n",
      "  copying cffi\\api.py -> build\\lib.win-amd64-cpython-311\\cffi\n",
      "  copying cffi\\backend_ctypes.py -> build\\lib.win-amd64-cpython-311\\cffi\n",
      "  copying cffi\\cffi_opcode.py -> build\\lib.win-amd64-cpython-311\\cffi\n",
      "  copying cffi\\commontypes.py -> build\\lib.win-amd64-cpython-311\\cffi\n",
      "  copying cffi\\cparser.py -> build\\lib.win-amd64-cpython-311\\cffi\n",
      "  copying cffi\\ffiplatform.py -> build\\lib.win-amd64-cpython-311\\cffi\n",
      "  copying cffi\\lock.py -> build\\lib.win-amd64-cpython-311\\cffi\n",
      "  copying cffi\\model.py -> build\\lib.win-amd64-cpython-311\\cffi\n",
      "  copying cffi\\recompiler.py -> build\\lib.win-amd64-cpython-311\\cffi\n",
      "  copying cffi\\setuptools_ext.py -> build\\lib.win-amd64-cpython-311\\cffi\n",
      "  copying cffi\\vengine_cpy.py -> build\\lib.win-amd64-cpython-311\\cffi\n",
      "  copying cffi\\vengine_gen.py -> build\\lib.win-amd64-cpython-311\\cffi\n",
      "  copying cffi\\verifier.py -> build\\lib.win-amd64-cpython-311\\cffi\n",
      "  copying cffi\\__init__.py -> build\\lib.win-amd64-cpython-311\\cffi\n",
      "  copying cffi\\_cffi_include.h -> build\\lib.win-amd64-cpython-311\\cffi\n",
      "  copying cffi\\parse_c_type.h -> build\\lib.win-amd64-cpython-311\\cffi\n",
      "  copying cffi\\_embedding.h -> build\\lib.win-amd64-cpython-311\\cffi\n",
      "  running build_ext\n",
      "  building '_cffi_backend' extension\n",
      "  creating build\\temp.win-amd64-cpython-311\n",
      "  creating build\\temp.win-amd64-cpython-311\\Release\n",
      "  creating build\\temp.win-amd64-cpython-311\\Release\\c\n",
      "  creating build\\temp.win-amd64-cpython-311\\Release\\c\\libffi_msvc\n",
      "  \"C:\\Program Files (x86)\\Microsoft Visual Studio\\2022\\BuildTools\\VC\\Tools\\MSVC\\14.35.32215\\bin\\HostX86\\x64\\cl.exe\" /c /nologo /O2 /W3 /GL /DNDEBUG /MD -Ic/libffi_msvc -IC:\\Users\\Akash\\anaconda3\\include -IC:\\Users\\Akash\\anaconda3\\Include \"-IC:\\Program Files (x86)\\Microsoft Visual Studio\\2022\\BuildTools\\VC\\Tools\\MSVC\\14.35.32215\\include\" \"-IC:\\Program Files (x86)\\Microsoft Visual Studio\\2022\\BuildTools\\VC\\Tools\\MSVC\\14.35.32215\\ATLMFC\\include\" \"-IC:\\Program Files (x86)\\Microsoft Visual Studio\\2022\\BuildTools\\VC\\Auxiliary\\VS\\include\" \"-IC:\\Program Files (x86)\\Windows Kits\\10\\include\\10.0.22000.0\\ucrt\" \"-IC:\\Program Files (x86)\\Windows Kits\\10\\\\include\\10.0.22000.0\\\\um\" \"-IC:\\Program Files (x86)\\Windows Kits\\10\\\\include\\10.0.22000.0\\\\shared\" \"-IC:\\Program Files (x86)\\Windows Kits\\10\\\\include\\10.0.22000.0\\\\winrt\" \"-IC:\\Program Files (x86)\\Windows Kits\\10\\\\include\\10.0.22000.0\\\\cppwinrt\" /Tcc/_cffi_backend.c /Fobuild\\temp.win-amd64-cpython-311\\Release\\c/_cffi_backend.obj\n",
      "  _cffi_backend.c\n",
      "  C:\\Users\\Akash\\AppData\\Local\\Temp\\pip-install-_hoq1jgf\\cffi_366223bb01124ccfa5c1103a0bc72737\\c\\minibuffer.h(66): warning C4996: 'PyObject_AsReadBuffer': deprecated in 3.0\n",
      "  C:\\Users\\Akash\\AppData\\Local\\Temp\\pip-install-_hoq1jgf\\cffi_366223bb01124ccfa5c1103a0bc72737\\c\\file_emulator.h(54): warning C4090: '=': different 'const' qualifiers\n",
      "  C:\\Users\\Akash\\AppData\\Local\\Temp\\pip-install-_hoq1jgf\\cffi_366223bb01124ccfa5c1103a0bc72737\\c\\wchar_helper.h(83): warning C4996: 'PyUnicode_AS_UNICODE': deprecated in 3.3\n",
      "  C:\\Users\\Akash\\AppData\\Local\\Temp\\pip-install-_hoq1jgf\\cffi_366223bb01124ccfa5c1103a0bc72737\\c\\wchar_helper.h(84): warning C4996: 'PyUnicode_GET_SIZE': deprecated in 3.3\n",
      "  C:\\Users\\Akash\\AppData\\Local\\Temp\\pip-install-_hoq1jgf\\cffi_366223bb01124ccfa5c1103a0bc72737\\c\\wchar_helper.h(99): warning C4996: 'PyUnicode_GET_SIZE': deprecated in 3.3\n",
      "  C:\\Users\\Akash\\AppData\\Local\\Temp\\pip-install-_hoq1jgf\\cffi_366223bb01124ccfa5c1103a0bc72737\\c\\wchar_helper.h(118): warning C4996: 'PyUnicode_AS_UNICODE': deprecated in 3.3\n",
      "  c/_cffi_backend.c(315): warning C4267: 'initializing': conversion from 'size_t' to 'int', possible loss of data\n",
      "  c/_cffi_backend.c(316): warning C4267: 'initializing': conversion from 'size_t' to 'int', possible loss of data\n",
      "  c/_cffi_backend.c(352): error C2106: '=': left operand must be l-value\n",
      "  c/_cffi_backend.c(355): error C2106: '=': left operand must be l-value\n",
      "  c/_cffi_backend.c(938): warning C4244: 'function': conversion from 'Py_ssize_t' to 'int', possible loss of data\n",
      "  c/_cffi_backend.c(947): warning C4244: 'function': conversion from 'Py_ssize_t' to 'int', possible loss of data\n",
      "  c/_cffi_backend.c(957): warning C4244: 'function': conversion from 'Py_ssize_t' to 'int', possible loss of data\n",
      "  c/_cffi_backend.c(993): warning C4244: 'function': conversion from 'Py_ssize_t' to 'int', possible loss of data\n",
      "  c/_cffi_backend.c(1007): warning C4244: 'function': conversion from 'Py_ssize_t' to 'int', possible loss of data\n",
      "  c/_cffi_backend.c(1385): warning C4244: 'function': conversion from 'Py_ssize_t' to 'int', possible loss of data\n",
      "  c/_cffi_backend.c(1386): warning C4244: 'function': conversion from 'Py_ssize_t' to 'int', possible loss of data\n",
      "  c/_cffi_backend.c(1388): warning C4244: 'function': conversion from 'Py_ssize_t' to 'int', possible loss of data\n",
      "  c/_cffi_backend.c(1398): warning C4244: 'function': conversion from 'Py_ssize_t' to 'int', possible loss of data\n",
      "  c/_cffi_backend.c(1399): warning C4244: 'function': conversion from 'Py_ssize_t' to 'int', possible loss of data\n",
      "  c/_cffi_backend.c(1401): warning C4244: 'function': conversion from 'Py_ssize_t' to 'int', possible loss of data\n",
      "  c/_cffi_backend.c(1420): warning C4244: 'function': conversion from 'Py_ssize_t' to 'int', possible loss of data\n",
      "  c/_cffi_backend.c(1515): warning C4244: 'function': conversion from 'Py_ssize_t' to 'int', possible loss of data\n",
      "  c/_cffi_backend.c(1517): warning C4244: 'function': conversion from 'Py_ssize_t' to 'int', possible loss of data\n",
      "  c/_cffi_backend.c(1537): warning C4244: '=': conversion from 'Py_ssize_t' to 'int', possible loss of data\n",
      "  c/_cffi_backend.c(1540): warning C4244: '=': conversion from 'Py_ssize_t' to 'int', possible loss of data\n",
      "  c/_cffi_backend.c(1865): warning C4244: 'function': conversion from 'Py_ssize_t' to 'int', possible loss of data\n",
      "  c/_cffi_backend.c(1870): warning C4244: 'function': conversion from 'Py_ssize_t' to 'int', possible loss of data\n",
      "  c/_cffi_backend.c(1884): warning C4244: 'function': conversion from 'Py_ssize_t' to 'int', possible loss of data\n",
      "  c/_cffi_backend.c(1933): warning C4244: 'function': conversion from 'Py_ssize_t' to 'int', possible loss of data\n",
      "  c/_cffi_backend.c(1987): warning C4244: 'return': conversion from 'Py_hash_t' to 'long', possible loss of data\n",
      "  c/_cffi_backend.c(3264): warning C4244: 'function': conversion from 'Py_ssize_t' to 'int', possible loss of data\n",
      "  c/_cffi_backend.c(3358): warning C4244: 'function': conversion from 'Py_ssize_t' to 'int', possible loss of data\n",
      "  c/_cffi_backend.c(3331): warning C4996: 'PyUnicode_GET_SIZE': deprecated in 3.3\n",
      "  c/_cffi_backend.c(3458): warning C4244: 'function': conversion from 'Py_ssize_t' to 'int', possible loss of data\n",
      "  c/_cffi_backend.c(3792): error C2061: syntax error: identifier 'ssize_t'\n",
      "  c/_cffi_backend.c(3804): error C2037: left of 'y' specifies undefined struct/union 'aligncheck_c'\n",
      "  c/_cffi_backend.c(3804): error C2037: left of 'y' specifies undefined struct/union 'aligncheck_s'\n",
      "  c/_cffi_backend.c(3804): error C2037: left of 'y' specifies undefined struct/union 'aligncheck_i'\n",
      "  c/_cffi_backend.c(3804): error C2037: left of 'y' specifies undefined struct/union 'aligncheck_l'\n",
      "  c/_cffi_backend.c(3804): error C2037: left of 'y' specifies undefined struct/union 'aligncheck_ll'\n",
      "  c/_cffi_backend.c(3804): error C2037: left of 'y' specifies undefined struct/union 'aligncheck_sc'\n",
      "  c/_cffi_backend.c(3804): error C2037: left of 'y' specifies undefined struct/union 'aligncheck_uc'\n",
      "  c/_cffi_backend.c(3804): error C2037: left of 'y' specifies undefined struct/union 'aligncheck_us'\n",
      "  c/_cffi_backend.c(3804): error C2037: left of 'y' specifies undefined struct/union 'aligncheck_ui'\n",
      "  c/_cffi_backend.c(3804): error C2037: left of 'y' specifies undefined struct/union 'aligncheck_ul'\n",
      "  c/_cffi_backend.c(3804): error C2037: left of 'y' specifies undefined struct/union 'aligncheck_ull'\n",
      "  c/_cffi_backend.c(3804): error C2037: left of 'y' specifies undefined struct/union 'aligncheck_f'\n",
      "  c/_cffi_backend.c(3804): error C2037: left of 'y' specifies undefined struct/union 'aligncheck_d'\n",
      "  c/_cffi_backend.c(3804): error C2037: left of 'y' specifies undefined struct/union 'aligncheck_ld'\n",
      "  c/_cffi_backend.c(3804): error C2037: left of 'y' specifies undefined struct/union 'aligncheck_wc'\n",
      "  c/_cffi_backend.c(3804): error C2037: left of 'y' specifies undefined struct/union 'aligncheck_b'\n",
      "  c/_cffi_backend.c(3804): error C2037: left of 'y' specifies undefined struct/union 'aligncheck_i8'\n",
      "  c/_cffi_backend.c(3804): error C2037: left of 'y' specifies undefined struct/union 'aligncheck_u8'\n",
      "  c/_cffi_backend.c(3804): error C2037: left of 'y' specifies undefined struct/union 'aligncheck_i16'\n",
      "  c/_cffi_backend.c(3804): error C2037: left of 'y' specifies undefined struct/union 'aligncheck_u16'\n",
      "  c/_cffi_backend.c(3804): error C2037: left of 'y' specifies undefined struct/union 'aligncheck_i32'\n",
      "  c/_cffi_backend.c(3804): error C2037: left of 'y' specifies undefined struct/union 'aligncheck_u32'\n",
      "  c/_cffi_backend.c(3804): error C2037: left of 'y' specifies undefined struct/union 'aligncheck_i64'\n",
      "  c/_cffi_backend.c(3804): error C2037: left of 'y' specifies undefined struct/union 'aligncheck_u64'\n",
      "  c/_cffi_backend.c(3804): error C2037: left of 'y' specifies undefined struct/union 'aligncheck_il8'\n",
      "  c/_cffi_backend.c(3804): error C2037: left of 'y' specifies undefined struct/union 'aligncheck_ul8'\n",
      "  c/_cffi_backend.c(3804): error C2037: left of 'y' specifies undefined struct/union 'aligncheck_il16'\n",
      "  c/_cffi_backend.c(3804): error C2037: left of 'y' specifies undefined struct/union 'aligncheck_ul16'\n",
      "  c/_cffi_backend.c(3804): error C2037: left of 'y' specifies undefined struct/union 'aligncheck_il32'\n",
      "  c/_cffi_backend.c(3804): error C2037: left of 'y' specifies undefined struct/union 'aligncheck_ul32'\n",
      "  c/_cffi_backend.c(3804): error C2037: left of 'y' specifies undefined struct/union 'aligncheck_il64'\n",
      "  c/_cffi_backend.c(3804): error C2037: left of 'y' specifies undefined struct/union 'aligncheck_ul64'\n",
      "  c/_cffi_backend.c(3804): error C2037: left of 'y' specifies undefined struct/union 'aligncheck_if8'\n",
      "  c/_cffi_backend.c(3804): error C2037: left of 'y' specifies undefined struct/union 'aligncheck_uf8'\n",
      "  c/_cffi_backend.c(3804): error C2037: left of 'y' specifies undefined struct/union 'aligncheck_if16'\n",
      "  c/_cffi_backend.c(3804): error C2037: left of 'y' specifies undefined struct/union 'aligncheck_uf16'\n",
      "  c/_cffi_backend.c(3804): error C2037: left of 'y' specifies undefined struct/union 'aligncheck_if32'\n",
      "  c/_cffi_backend.c(3804): error C2037: left of 'y' specifies undefined struct/union 'aligncheck_uf32'\n",
      "  c/_cffi_backend.c(3804): error C2037: left of 'y' specifies undefined struct/union 'aligncheck_if64'\n",
      "  c/_cffi_backend.c(3804): error C2037: left of 'y' specifies undefined struct/union 'aligncheck_uf64'\n",
      "  c/_cffi_backend.c(3804): error C2037: left of 'y' specifies undefined struct/union 'aligncheck_ip'\n",
      "  c/_cffi_backend.c(3804): error C2037: left of 'y' specifies undefined struct/union 'aligncheck_up'\n",
      "  c/_cffi_backend.c(3804): error C2037: left of 'y' specifies undefined struct/union 'aligncheck_im'\n",
      "  c/_cffi_backend.c(3804): error C2037: left of 'y' specifies undefined struct/union 'aligncheck_um'\n",
      "  c/_cffi_backend.c(3804): error C2037: left of 'y' specifies undefined struct/union 'aligncheck_pd'\n",
      "  c/_cffi_backend.c(3804): error C2037: left of 'y' specifies undefined struct/union 'aligncheck_sz'\n",
      "  c/_cffi_backend.c(3804): error C2065: 'ssize_t': undeclared identifier\n",
      "  c/_cffi_backend.c(3804): error C2037: left of 'y' specifies undefined struct/union 'aligncheck_ssz'\n",
      "  c/_cffi_backend.c(3815): error C2059: syntax error: 'for'\n",
      "  c/_cffi_backend.c(3815): error C2143: syntax error: missing '{' before '++'\n",
      "  c/_cffi_backend.c(3815): error C2059: syntax error: '++'\n",
      "  c/_cffi_backend.c(3815): error C2059: syntax error: ')'\n",
      "  c/_cffi_backend.c(3829): error C2059: syntax error: 'if'\n",
      "  c/_cffi_backend.c(3838): error C2059: syntax error: 'else'\n",
      "  c/_cffi_backend.c(3855): error C2059: syntax error: 'else'\n",
      "  c/_cffi_backend.c(3865): error C2099: initializer is not a constant\n",
      "  c/_cffi_backend.c(3866): error C2040: 'td': 'int' differs in levels of indirection from 'CTypeDescrObject *'\n",
      "  c/_cffi_backend.c(3867): error C2059: syntax error: 'if'\n",
      "  c/_cffi_backend.c(3870): error C2143: syntax error: missing ')' before '->'\n",
      "  c/_cffi_backend.c(3870): error C2143: syntax error: missing '{' before '->'\n",
      "  c/_cffi_backend.c(3870): error C2059: syntax error: '->'\n",
      "  c/_cffi_backend.c(3870): error C2059: syntax error: ')'\n",
      "  c/_cffi_backend.c(3871): error C2143: syntax error: missing '{' before '->'\n",
      "  c/_cffi_backend.c(3871): error C2059: syntax error: '->'\n",
      "  c/_cffi_backend.c(3872): error C2143: syntax error: missing '{' before '->'\n",
      "  c/_cffi_backend.c(3872): error C2059: syntax error: '->'\n",
      "  c/_cffi_backend.c(3873): error C2143: syntax error: missing '{' before '->'\n",
      "  c/_cffi_backend.c(3873): error C2059: syntax error: '->'\n",
      "  c/_cffi_backend.c(3874): error C2143: syntax error: missing '{' before '->'\n",
      "  c/_cffi_backend.c(3874): error C2059: syntax error: '->'\n",
      "  c/_cffi_backend.c(3875): error C2059: syntax error: 'if'\n",
      "  c/_cffi_backend.c(3879): error C2059: syntax error: 'else'\n",
      "  c/_cffi_backend.c(3883): error C2143: syntax error: missing '{' before '->'\n",
      "  c/_cffi_backend.c(3883): error C2059: syntax error: '->'\n",
      "  c/_cffi_backend.c(3884): error C2040: 'unique_key': 'int [0]' differs in levels of indirection from 'const void *[1]'\n",
      "  c/_cffi_backend.c(3885): error C2059: syntax error: 'return'\n",
      "  c/_cffi_backend.c(3887): error C2143: syntax error: missing '{' before ':'\n",
      "  c/_cffi_backend.c(3887): error C2059: syntax error: ':'\n",
      "  c/_cffi_backend.c(3892): error C2059: syntax error: 'return'\n",
      "  c/_cffi_backend.c(3893): error C2059: syntax error: '}'\n",
      "  c/_cffi_backend.c(4027): warning C4267: '=': conversion from 'size_t' to 'int', possible loss of data\n",
      "  c/_cffi_backend.c(4018): warning C4267: 'initializing': conversion from 'size_t' to 'int', possible loss of data\n",
      "  c/_cffi_backend.c(4039): warning C4267: 'initializing': conversion from 'size_t' to 'int', possible loss of data\n",
      "  c/_cffi_backend.c(4384): warning C4244: '=': conversion from 'Py_ssize_t' to 'int', possible loss of data\n",
      "  c/_cffi_backend.c(4425): warning C4244: '=': conversion from 'Py_ssize_t' to 'int', possible loss of data\n",
      "  c/_cffi_backend.c(4433): warning C4244: '=': conversion from 'Py_ssize_t' to 'int', possible loss of data\n",
      "  c/_cffi_backend.c(4251): warning C4996: 'PyUnicode_GetSize': deprecated in 3.3\n",
      "  c/_cffi_backend.c(4283): warning C4996: 'PyUnicode_GetSize': deprecated in 3.3\n",
      "  c/_cffi_backend.c(4353): warning C4996: 'PyUnicode_GetSize': deprecated in 3.3\n",
      "  c/_cffi_backend.c(4627): warning C4244: '=': conversion from 'Py_ssize_t' to 'unsigned short', possible loss of data\n",
      "  c/_cffi_backend.c(4742): warning C4267: 'function': conversion from 'size_t' to 'int', possible loss of data\n",
      "  c/_cffi_backend.c(4746): warning C4244: '=': conversion from 'Py_ssize_t' to 'int', possible loss of data\n",
      "  c/_cffi_backend.c(4762): warning C4267: 'function': conversion from 'size_t' to 'int', possible loss of data\n",
      "  c/_cffi_backend.c(4775): warning C4267: 'function': conversion from 'size_t' to 'int', possible loss of data\n",
      "  c/_cffi_backend.c(4804): warning C4244: 'function': conversion from 'Py_ssize_t' to 'int', possible loss of data\n",
      "  c/_cffi_backend.c(4854): warning C4244: 'function': conversion from 'Py_ssize_t' to 'unsigned int', possible loss of data\n",
      "  c/_cffi_backend.c(4939): warning C4244: 'function': conversion from 'Py_ssize_t' to 'long', possible loss of data\n",
      "  c/_cffi_backend.c(5214): warning C4996: 'PyEval_InitThreads': deprecated in 3.9\n",
      "  c/_cffi_backend.c(5364): warning C4267: '=': conversion from 'size_t' to 'int', possible loss of data\n",
      "  c/_cffi_backend.c(5475): error C2065: 'ssize_t': undeclared identifier\n",
      "  c/_cffi_backend.c(5475): error C2146: syntax error: missing ';' before identifier 'index'\n",
      "  c/_cffi_backend.c(5475): error C2065: 'index': undeclared identifier\n",
      "  c/_cffi_backend.c(5475): warning C4244: '=': conversion from 'Py_ssize_t' to 'int', possible loss of data\n",
      "  c/_cffi_backend.c(5476): error C2065: 'index': undeclared identifier\n",
      "  c/_cffi_backend.c(5490): error C2065: 'index': undeclared identifier\n",
      "  c/_cffi_backend.c(5491): error C2065: 'index': undeclared identifier\n",
      "  c/_cffi_backend.c(6427): error C2065: 'b_new_primitive_type': undeclared identifier\n",
      "  c/_cffi_backend.c(6427): error C2099: initializer is not a constant\n",
      "  c/_cffi_backend.c(6427): warning C4047: 'initializing': 'PyCFunction' differs in levels of indirection from 'int'\n",
      "  C:\\Users\\Akash\\AppData\\Local\\Temp\\pip-install-_hoq1jgf\\cffi_366223bb01124ccfa5c1103a0bc72737\\c\\parse_c_type.c(217): warning C4267: 'return': conversion from 'size_t' to 'int', possible loss of data\n",
      "  C:\\Users\\Akash\\AppData\\Local\\Temp\\pip-install-_hoq1jgf\\cffi_366223bb01124ccfa5c1103a0bc72737\\c\\parse_c_type.c(286): warning C4267: '=': conversion from 'size_t' to 'int', possible loss of data\n",
      "  C:\\Users\\Akash\\AppData\\Local\\Temp\\pip-install-_hoq1jgf\\cffi_366223bb01124ccfa5c1103a0bc72737\\c\\parse_c_type.c(340): warning C4244: '=': conversion from 'intptr_t' to 'int', possible loss of data\n",
      "  C:\\Users\\Akash\\AppData\\Local\\Temp\\pip-install-_hoq1jgf\\cffi_366223bb01124ccfa5c1103a0bc72737\\c\\parse_c_type.c(444): warning C4244: 'return': conversion from 'intptr_t' to 'int', possible loss of data\n",
      "  C:\\Users\\Akash\\AppData\\Local\\Temp\\pip-install-_hoq1jgf\\cffi_366223bb01124ccfa5c1103a0bc72737\\c\\realize_c_type.c(425): warning C4244: 'function': conversion from 'intptr_t' to 'int', possible loss of data\n",
      "  C:\\Users\\Akash\\AppData\\Local\\Temp\\pip-install-_hoq1jgf\\cffi_366223bb01124ccfa5c1103a0bc72737\\c\\realize_c_type.c(430): warning C4244: 'function': conversion from 'intptr_t' to 'int', possible loss of data\n",
      "  C:\\Users\\Akash\\AppData\\Local\\Temp\\pip-install-_hoq1jgf\\cffi_366223bb01124ccfa5c1103a0bc72737\\c\\realize_c_type.c(448): warning C4244: 'function': conversion from 'intptr_t' to 'int', possible loss of data\n",
      "  C:\\Users\\Akash\\AppData\\Local\\Temp\\pip-install-_hoq1jgf\\cffi_366223bb01124ccfa5c1103a0bc72737\\c\\realize_c_type.c(460): warning C4244: 'function': conversion from 'intptr_t' to 'int', possible loss of data\n",
      "  C:\\Users\\Akash\\AppData\\Local\\Temp\\pip-install-_hoq1jgf\\cffi_366223bb01124ccfa5c1103a0bc72737\\c\\realize_c_type.c(559): warning C4244: 'function': conversion from 'intptr_t' to 'int', possible loss of data\n",
      "  C:\\Users\\Akash\\AppData\\Local\\Temp\\pip-install-_hoq1jgf\\cffi_366223bb01124ccfa5c1103a0bc72737\\c\\realize_c_type.c(621): warning C4244: 'function': conversion from 'intptr_t' to 'int', possible loss of data\n",
      "  C:\\Users\\Akash\\AppData\\Local\\Temp\\pip-install-_hoq1jgf\\cffi_366223bb01124ccfa5c1103a0bc72737\\c\\realize_c_type.c(670): warning C4244: 'function': conversion from 'intptr_t' to 'int', possible loss of data\n",
      "  C:\\Users\\Akash\\AppData\\Local\\Temp\\pip-install-_hoq1jgf\\cffi_366223bb01124ccfa5c1103a0bc72737\\c\\realize_c_type.c(723): warning C4244: 'function': conversion from 'intptr_t' to 'int', possible loss of data\n",
      "  C:\\Users\\Akash\\AppData\\Local\\Temp\\pip-install-_hoq1jgf\\cffi_366223bb01124ccfa5c1103a0bc72737\\c\\ffi_obj.c(191): warning C4090: 'initializing': different 'const' qualifiers\n",
      "  C:\\Users\\Akash\\AppData\\Local\\Temp\\pip-install-_hoq1jgf\\cffi_366223bb01124ccfa5c1103a0bc72737\\c\\lib_obj.c(126): warning C4244: 'initializing': conversion from 'intptr_t' to 'int', possible loss of data\n",
      "  C:\\Users\\Akash\\AppData\\Local\\Temp\\pip-install-_hoq1jgf\\cffi_366223bb01124ccfa5c1103a0bc72737\\c\\lib_obj.c(129): warning C4090: 'initializing': different 'const' qualifiers\n",
      "  C:\\Users\\Akash\\AppData\\Local\\Temp\\pip-install-_hoq1jgf\\cffi_366223bb01124ccfa5c1103a0bc72737\\c\\lib_obj.c(298): warning C4244: 'function': conversion from 'intptr_t' to 'int', possible loss of data\n",
      "  C:\\Users\\Akash\\AppData\\Local\\Temp\\pip-install-_hoq1jgf\\cffi_366223bb01124ccfa5c1103a0bc72737\\c\\lib_obj.c(342): warning C4244: 'function': conversion from 'intptr_t' to 'int', possible loss of data\n",
      "  C:\\Users\\Akash\\AppData\\Local\\Temp\\pip-install-_hoq1jgf\\cffi_366223bb01124ccfa5c1103a0bc72737\\c\\lib_obj.c(368): warning C4244: 'function': conversion from 'intptr_t' to 'int', possible loss of data\n",
      "  C:\\Users\\Akash\\AppData\\Local\\Temp\\pip-install-_hoq1jgf\\cffi_366223bb01124ccfa5c1103a0bc72737\\c\\lib_obj.c(389): warning C4244: 'function': conversion from 'intptr_t' to 'int', possible loss of data\n",
      "  C:\\Users\\Akash\\AppData\\Local\\Temp\\pip-install-_hoq1jgf\\cffi_366223bb01124ccfa5c1103a0bc72737\\c\\lib_obj.c(403): warning C4244: 'function': conversion from 'intptr_t' to 'int', possible loss of data\n",
      "  C:\\Users\\Akash\\AppData\\Local\\Temp\\pip-install-_hoq1jgf\\cffi_366223bb01124ccfa5c1103a0bc72737\\c\\lib_obj.c(208): warning C4090: 'initializing': different 'const' qualifiers\n",
      "  C:\\Users\\Akash\\AppData\\Local\\Temp\\pip-install-_hoq1jgf\\cffi_366223bb01124ccfa5c1103a0bc72737\\c\\lib_obj.c(506): warning C4090: '=': different 'const' qualifiers\n",
      "  C:\\Users\\Akash\\AppData\\Local\\Temp\\pip-install-_hoq1jgf\\cffi_366223bb01124ccfa5c1103a0bc72737\\c\\cdlopen.c(190): warning C4244: '=': conversion from 'Py_ssize_t' to 'int', possible loss of data\n",
      "  C:\\Users\\Akash\\AppData\\Local\\Temp\\pip-install-_hoq1jgf\\cffi_366223bb01124ccfa5c1103a0bc72737\\c\\cdlopen.c(235): warning C4244: '=': conversion from 'Py_ssize_t' to 'int', possible loss of data\n",
      "  C:\\Users\\Akash\\AppData\\Local\\Temp\\pip-install-_hoq1jgf\\cffi_366223bb01124ccfa5c1103a0bc72737\\c\\cdlopen.c(267): warning C4244: '=': conversion from 'Py_ssize_t' to 'int', possible loss of data\n",
      "  C:\\Users\\Akash\\AppData\\Local\\Temp\\pip-install-_hoq1jgf\\cffi_366223bb01124ccfa5c1103a0bc72737\\c\\cdlopen.c(268): warning C4244: '=': conversion from 'Py_ssize_t' to 'int', possible loss of data\n",
      "  C:\\Users\\Akash\\AppData\\Local\\Temp\\pip-install-_hoq1jgf\\cffi_366223bb01124ccfa5c1103a0bc72737\\c\\cdlopen.c(280): warning C4244: '=': conversion from 'Py_ssize_t' to 'int', possible loss of data\n",
      "  C:\\Users\\Akash\\AppData\\Local\\Temp\\pip-install-_hoq1jgf\\cffi_366223bb01124ccfa5c1103a0bc72737\\c\\cdlopen.c(281): warning C4244: '=': conversion from 'Py_ssize_t' to 'int', possible loss of data\n",
      "  C:\\Users\\Akash\\AppData\\Local\\Temp\\pip-install-_hoq1jgf\\cffi_366223bb01124ccfa5c1103a0bc72737\\c\\cdlopen.c(301): warning C4244: '=': conversion from 'Py_ssize_t' to 'int', possible loss of data\n",
      "  C:\\Users\\Akash\\AppData\\Local\\Temp\\pip-install-_hoq1jgf\\cffi_366223bb01124ccfa5c1103a0bc72737\\c\\cdlopen.c(321): warning C4244: '=': conversion from 'Py_ssize_t' to 'int', possible loss of data\n",
      "  C:\\Users\\Akash\\AppData\\Local\\Temp\\pip-install-_hoq1jgf\\cffi_366223bb01124ccfa5c1103a0bc72737\\c\\cdlopen.c(322): warning C4244: '=': conversion from 'Py_ssize_t' to 'int', possible loss of data\n",
      "  C:\\Users\\Akash\\AppData\\Local\\Temp\\pip-install-_hoq1jgf\\cffi_366223bb01124ccfa5c1103a0bc72737\\c\\cdlopen.c(327): warning C4244: '=': conversion from 'Py_ssize_t' to 'int', possible loss of data\n",
      "  C:\\Users\\Akash\\AppData\\Local\\Temp\\pip-install-_hoq1jgf\\cffi_366223bb01124ccfa5c1103a0bc72737\\c\\cdlopen.c(347): warning C4244: '=': conversion from 'Py_ssize_t' to 'int', possible loss of data\n",
      "  C:\\Users\\Akash\\AppData\\Local\\Temp\\pip-install-_hoq1jgf\\cffi_366223bb01124ccfa5c1103a0bc72737\\c\\cdlopen.c(351): warning C4244: '=': conversion from 'Py_ssize_t' to 'int', possible loss of data\n",
      "  C:\\Users\\Akash\\AppData\\Local\\Temp\\pip-install-_hoq1jgf\\cffi_366223bb01124ccfa5c1103a0bc72737\\c\\call_python.c(20): error C2037: left of 'builtins' specifies undefined struct/union '_is'\n",
      "  C:\\Users\\Akash\\AppData\\Local\\Temp\\pip-install-_hoq1jgf\\cffi_366223bb01124ccfa5c1103a0bc72737\\c\\call_python.c(73): warning C4090: '=': different 'const' qualifiers\n",
      "  C:\\Users\\Akash\\AppData\\Local\\Temp\\pip-install-_hoq1jgf\\cffi_366223bb01124ccfa5c1103a0bc72737\\c\\call_python.c(90): warning C4244: 'function': conversion from 'intptr_t' to 'int', possible loss of data\n",
      "  C:\\Users\\Akash\\AppData\\Local\\Temp\\pip-install-_hoq1jgf\\cffi_366223bb01124ccfa5c1103a0bc72737\\c\\call_python.c(160): error C2037: left of 'modules' specifies undefined struct/union '_is'\n",
      "  C:\\Users\\Akash\\AppData\\Local\\Temp\\pip-install-_hoq1jgf\\cffi_366223bb01124ccfa5c1103a0bc72737\\c\\call_python.c(235): error C2037: left of 'modules' specifies undefined struct/union '_is'\n",
      "  error: command 'C:\\\\Program Files (x86)\\\\Microsoft Visual Studio\\\\2022\\\\BuildTools\\\\VC\\\\Tools\\\\MSVC\\\\14.35.32215\\\\bin\\\\HostX86\\\\x64\\\\cl.exe' failed with exit code 2\n",
      "  [end of output]\n",
      "  \n",
      "  note: This error originates from a subprocess, and is likely not a problem with pip.\n",
      "  ERROR: Failed building wheel for cffi\n",
      "ERROR: Could not build wheels for cffi, which is required to install pyproject.toml-based projects\n"
     ]
    }
   ],
   "source": [
    "!pip install python-libmagic"
   ]
  },
  {
   "cell_type": "markdown",
   "id": "dfe21cca",
   "metadata": {},
   "source": [
    "## Text Splitters of langchain\n",
    "\n",
    "LLM's have token limits. Hence we need to split the text which can be large into small chunks so that each chunk size is under the token limit.\n",
    "\n",
    "### CharacterTextSplitter"
   ]
  },
  {
   "cell_type": "code",
   "execution_count": 11,
   "id": "23c20d77",
   "metadata": {},
   "outputs": [],
   "source": [
    "from langchain.text_splitter import CharacterTextSplitter\n",
    "\n",
    "splitter = CharacterTextSplitter(\n",
    "    separator = \"\\n\",\n",
    "    chunk_size=200,\n",
    "    chunk_overlap=0\n",
    ")"
   ]
  },
  {
   "cell_type": "code",
   "execution_count": 14,
   "id": "bd2c4f34",
   "metadata": {},
   "outputs": [],
   "source": [
    "text = \"\"\" In the distant future, Duke Leto Atreides, ruler of the planet Caladan, is assigned by the Padishah Emperor Shaddam IV to replace Baron Vladimir Harkonnen as the fiefholder of Arrakis, a harsh desert planet and sole source of \"spice\", a valuable psychotropic substance that imparts heightened vitality and awareness. Spice is key to interstellar travel, giving Spacing Guild Navigators the ability to guide starships to traverse space instantaneously and safely. Shaddam plots for House Harkonnen to retake Arrakis, secretly aided by his Sardaukar troops, to destroy House Atreides. Leto is suspicious of the Emperor but weighs the risks against the power of controlling Arrakis and making an alliance with its mysterious natives, the Fremen.\n",
    "\n",
    "Leto's concubine, Lady Jessica, is an acolyte of the Bene Gesserit, an exclusive sisterhood whose members possess advanced physical and mental abilities. As part of their centuries-long breeding program, they instructed her to bear a daughter whose son would become the Kwisatz Haderach, a Bene Gesserit and messianic superbeing with the clairvoyance necessary to guide humanity to a better future. She disobeyed and bore a son, Paul, who is trained by Leto's aides, Duncan Idaho, Gurney Halleck, the Suk doctor Wellington Yueh, and the Mentat Thufir Hawat; Jessica teaches him Bene Gesserit disciplines. Paul confides in Jessica and Duncan of his troubling visions of the future. The Reverend Mother and Imperial Truthsayer Gaius Helen Mohiam visits Caladan and subjects him to a death-alternative Gom jabbar test to assess his humanity and impulse control, which he passes. At a secret meeting on Giedi Prime, Mohiam insists Baron Harkonnen spare Paul and Jessica in his coup, to which he duplicitously agrees.\n",
    "\n",
    "House Atreides arrives at Arrakeen, the fortress stronghold on Arrakis. Duncan's advance party has made contact with the Fremen. The natives revere Paul and Jessica, which Jessica explains is due to the Bene Gesserit sowing beliefs on Arrakis centuries earlier. Leto negotiates with Fremen chieftain Stilgar and meets the Imperial Judge of the Change, Dr. Kynes, a planetologist who lives among the Fremen. Kynes briefs them on the dangers of spice harvesting, and the giant sandworms which travel under the desert and make the use of protective Holtzman shields unwise. During a flight, they dramatically rescue a stranded spice-harvesting crew from a sandworm, and Paul's exposure to the spice triggers intense premonitions.\n",
    "\n",
    "An attempt to assassinate Paul with a hunter-seeker fails. Yueh betrays the Atreides and disables Arrakeen's shields, allowing the Harkonnens and Sardaukar to invade. He incapacitates Leto, planning to exchange him for his wife, who is the Baron's prisoner. Yueh replaces one of Leto's teeth with a poison gas capsule with which the Duke can assassinate the Baron. After the Baron double-crosses and murders Yueh, Leto releases the gas, killing himself and the Baron's Mentat, Piter De Vries, but the Baron survives. Though the Baron has arranged to have Paul and Jessica dropped deep in the desert to die, a compassionate Yueh has left them with a fremkit with survival supplies. Jessica uses a Bene Gesserit technique called \"the Voice\" to overpower and kill their captors. Overnighting in the desert, Paul—surrounded by spice—has visions of a bloody holy war fought across the universe in his name.\n",
    "\n",
    "Baron Harkonnen gives command of the conquered Arrakis to his nephew, Rabban, and orders him to restart spice production to recoup the cost of the invasion. Paul and Jessica are found by Duncan and Kynes, and Paul discloses his plan to marry one of Shaddam's daughters to avert the civil war that would ensue from news of the Emperor's treachery. They are found by the Sardaukar who have a lasgun, but Duncan sacrifices himself to enable Paul and Jessica to escape; Kynes is mortally wounded and lures a sandworm to devour her and the Sardaukar. In the deep desert, Paul and Jessica encounter Stilgar's tribe, including Chani, the young woman in Paul's visions. Fremen warrior Jamis opposes Stilgar's lenience to them and challenges Paul to a ritual duel to the death, which Paul wins. Against Jessica's wishes, Paul joins the Fremen to fulfill his father's goal of allying with them to bring peace to Arrakis.\"\"\""
   ]
  },
  {
   "cell_type": "code",
   "execution_count": 15,
   "id": "c3c6eb0c",
   "metadata": {},
   "outputs": [
    {
     "name": "stderr",
     "output_type": "stream",
     "text": [
      "Created a chunk of size 743, which is longer than the specified 200\n",
      "Created a chunk of size 1012, which is longer than the specified 200\n",
      "Created a chunk of size 726, which is longer than the specified 200\n",
      "Created a chunk of size 901, which is longer than the specified 200\n"
     ]
    },
    {
     "data": {
      "text/plain": [
       "5"
      ]
     },
     "execution_count": 15,
     "metadata": {},
     "output_type": "execute_result"
    }
   ],
   "source": [
    "chunks = splitter.split_text(text)\n",
    "len(chunks)"
   ]
  },
  {
   "cell_type": "markdown",
   "id": "6657db23",
   "metadata": {},
   "source": [
    "## RecursiveCharacterTextSplitter"
   ]
  },
  {
   "cell_type": "code",
   "execution_count": 16,
   "id": "e5a993af",
   "metadata": {},
   "outputs": [],
   "source": [
    "from langchain.text_splitter import RecursiveCharacterTextSplitter\n",
    "\n",
    "r_splitter = RecursiveCharacterTextSplitter(\n",
    "    separators = [\"\\n\\n\", \"\\n\", \" \"],  # List of separators based on requirement (defaults to [\"\\n\\n\", \"\\n\", \" \"])\n",
    "    chunk_size = 200,  # size of each chunk created\n",
    "    chunk_overlap  = 0,  # size of  overlap between chunks in order to maintain the context\n",
    "    length_function = len  # Function to calculate size, currently we are using \"len\" which denotes length of string however you can pass any token counter)\n",
    ")"
   ]
  },
  {
   "cell_type": "code",
   "execution_count": 17,
   "id": "1326f4db",
   "metadata": {},
   "outputs": [
    {
     "name": "stdout",
     "output_type": "stream",
     "text": [
      "199\n",
      "197\n",
      "192\n",
      "151\n",
      "194\n",
      "195\n",
      "191\n",
      "197\n",
      "197\n",
      "33\n",
      "198\n",
      "199\n",
      "193\n",
      "133\n",
      "198\n",
      "196\n",
      "195\n",
      "199\n",
      "109\n",
      "197\n",
      "199\n",
      "194\n",
      "192\n",
      "124\n"
     ]
    }
   ],
   "source": [
    "chunks = r_splitter.split_text(text)\n",
    "\n",
    "for chunk in chunks:\n",
    "    print(len(chunk))"
   ]
  },
  {
   "cell_type": "code",
   "execution_count": null,
   "id": "4d64c7e1",
   "metadata": {},
   "outputs": [],
   "source": []
  }
 ],
 "metadata": {
  "kernelspec": {
   "display_name": "Python 3 (ipykernel)",
   "language": "python",
   "name": "python3"
  },
  "language_info": {
   "codemirror_mode": {
    "name": "ipython",
    "version": 3
   },
   "file_extension": ".py",
   "mimetype": "text/x-python",
   "name": "python",
   "nbconvert_exporter": "python",
   "pygments_lexer": "ipython3",
   "version": "3.11.5"
  }
 },
 "nbformat": 4,
 "nbformat_minor": 5
}
